{
 "cells": [
  {
   "cell_type": "code",
   "execution_count": 45,
   "id": "a733b93f",
   "metadata": {},
   "outputs": [
    {
     "data": {
      "image/png": "[encoded data removed]",
      "text/plain": [
       "<Figure size 720x72 with 1 Axes>"
      ]
     },
     "metadata": {
      "needs_background": "light"
     },
     "output_type": "display_data"
    }
   ],
   "source": [
    "# import numpy as np \n",
    "# import seaborn as sns \n",
    "# import matplotlib.pyplot as plt\n",
    "# %matplotlib inline \n",
    "# import warnings\n",
    "# warnings.filterwarnings('ignore')\n",
    "                        \n",
    "# current_palette = sns.color_palette() \n",
    "# sns.palplot(current_palette)\n",
    "\n",
    "import numpy as np\n",
    "import seaborn as sns\n",
    "import matplotlib.pyplot as plt\n",
    "%matplotlib inline\n",
    "import warnings\n",
    "warnings.filterwarnings(\"ignore\")\n",
    "\n",
    "current_palette = sns.color_palette()\n",
    "sns.palplot(current_palette)\n"
   ]
  },
  {
   "cell_type": "code",
   "execution_count": 3,
   "id": "7d2d7283",
   "metadata": {},
   "outputs": [
    {
     "data": {
      "image/png": "[encoded data removed]",
      "text/plain": [
       "<Figure size 720x72 with 1 Axes>"
      ]
     },
     "metadata": {
      "needs_background": "light"
     },
     "output_type": "display_data"
    },
    {
     "data": {
      "image/png": "[encoded data removed]",
      "text/plain": [
       "<Figure size 720x72 with 1 Axes>"
      ]
     },
     "metadata": {
      "needs_background": "light"
     },
     "output_type": "display_data"
    },
    {
     "data": {
      "image/png": "[encoded data removed]",
      "text/plain": [
       "<Figure size 720x72 with 1 Axes>"
      ]
     },
     "metadata": {
      "needs_background": "light"
     },
     "output_type": "display_data"
    },
    {
     "data": {
      "image/png": "[encoded data removed]",
      "text/plain": [
       "<Figure size 720x72 with 1 Axes>"
      ]
     },
     "metadata": {
      "needs_background": "light"
     },
     "output_type": "display_data"
    },
    {
     "data": {
      "image/png": "[encoded data removed]",
      "text/plain": [
       "<Figure size 720x72 with 1 Axes>"
      ]
     },
     "metadata": {
      "needs_background": "light"
     },
     "output_type": "display_data"
    },
    {
     "data": {
      "image/png": "[encoded data removed]",
      "text/plain": [
       "<Figure size 720x72 with 1 Axes>"
      ]
     },
     "metadata": {
      "needs_background": "light"
     },
     "output_type": "display_data"
    }
   ],
   "source": [
    "#seaborn提供的6種調色板 \n",
    "# theme_list=['deep', 'muted', 'pastel','bright', 'dark', 'colorblind'] \n",
    "# for i in theme_list: \n",
    "#     sns.palplot(sns.color_palette(i))\n",
    "\n",
    "theme_list=[\"deep\", \"muted\", \"pastel\", \"bright\", \"dark\", \"colorblind\"]\n",
    "for i in theme_list:\n",
    "    sns.palplot(sns.color_palette(i))\n"
   ]
  },
  {
   "cell_type": "code",
   "execution_count": 7,
   "id": "3a00d413",
   "metadata": {},
   "outputs": [
    {
     "data": {
      "text/html": [
       "<svg  width=\"1375\" height=\"55\"><rect x=\"0\" y=\"0\" width=\"55\" height=\"55\" style=\"fill:#db5f57;stroke-width:2;stroke:rgb(255,255,255)\"/><rect x=\"55\" y=\"0\" width=\"55\" height=\"55\" style=\"fill:#db7e57;stroke-width:2;stroke:rgb(255,255,255)\"/><rect x=\"110\" y=\"0\" width=\"55\" height=\"55\" style=\"fill:#db9e57;stroke-width:2;stroke:rgb(255,255,255)\"/><rect x=\"165\" y=\"0\" width=\"55\" height=\"55\" style=\"fill:#dbbe57;stroke-width:2;stroke:rgb(255,255,255)\"/><rect x=\"220\" y=\"0\" width=\"55\" height=\"55\" style=\"fill:#d9db57;stroke-width:2;stroke:rgb(255,255,255)\"/><rect x=\"275\" y=\"0\" width=\"55\" height=\"55\" style=\"fill:#b9db57;stroke-width:2;stroke:rgb(255,255,255)\"/><rect x=\"330\" y=\"0\" width=\"55\" height=\"55\" style=\"fill:#99db57;stroke-width:2;stroke:rgb(255,255,255)\"/><rect x=\"385\" y=\"0\" width=\"55\" height=\"55\" style=\"fill:#79db57;stroke-width:2;stroke:rgb(255,255,255)\"/><rect x=\"440\" y=\"0\" width=\"55\" height=\"55\" style=\"fill:#59db57;stroke-width:2;stroke:rgb(255,255,255)\"/><rect x=\"495\" y=\"0\" width=\"55\" height=\"55\" style=\"fill:#57db74;stroke-width:2;stroke:rgb(255,255,255)\"/><rect x=\"550\" y=\"0\" width=\"55\" height=\"55\" style=\"fill:#57db94;stroke-width:2;stroke:rgb(255,255,255)\"/><rect x=\"605\" y=\"0\" width=\"55\" height=\"55\" style=\"fill:#57dbb4;stroke-width:2;stroke:rgb(255,255,255)\"/><rect x=\"660\" y=\"0\" width=\"55\" height=\"55\" style=\"fill:#57dbd3;stroke-width:2;stroke:rgb(255,255,255)\"/><rect x=\"715\" y=\"0\" width=\"55\" height=\"55\" style=\"fill:#57c3db;stroke-width:2;stroke:rgb(255,255,255)\"/><rect x=\"770\" y=\"0\" width=\"55\" height=\"55\" style=\"fill:#57a4db;stroke-width:2;stroke:rgb(255,255,255)\"/><rect x=\"825\" y=\"0\" width=\"55\" height=\"55\" style=\"fill:#5784db;stroke-width:2;stroke:rgb(255,255,255)\"/><rect x=\"880\" y=\"0\" width=\"55\" height=\"55\" style=\"fill:#5764db;stroke-width:2;stroke:rgb(255,255,255)\"/><rect x=\"935\" y=\"0\" width=\"55\" height=\"55\" style=\"fill:#6957db;stroke-width:2;stroke:rgb(255,255,255)\"/><rect x=\"990\" y=\"0\" width=\"55\" height=\"55\" style=\"fill:#8957db;stroke-width:2;stroke:rgb(255,255,255)\"/><rect x=\"1045\" y=\"0\" width=\"55\" height=\"55\" style=\"fill:#a957db;stroke-width:2;stroke:rgb(255,255,255)\"/><rect x=\"1100\" y=\"0\" width=\"55\" height=\"55\" style=\"fill:#c957db;stroke-width:2;stroke:rgb(255,255,255)\"/><rect x=\"1155\" y=\"0\" width=\"55\" height=\"55\" style=\"fill:#db57ce;stroke-width:2;stroke:rgb(255,255,255)\"/><rect x=\"1210\" y=\"0\" width=\"55\" height=\"55\" style=\"fill:#db57ae;stroke-width:2;stroke:rgb(255,255,255)\"/><rect x=\"1265\" y=\"0\" width=\"55\" height=\"55\" style=\"fill:#db578e;stroke-width:2;stroke:rgb(255,255,255)\"/><rect x=\"1320\" y=\"0\" width=\"55\" height=\"55\" style=\"fill:#db576f;stroke-width:2;stroke:rgb(255,255,255)\"/></svg>"
      ],
      "text/plain": [
       "[(0.86, 0.3712, 0.33999999999999997),\n",
       " (0.86, 0.496, 0.33999999999999997),\n",
       " (0.86, 0.6208, 0.33999999999999997),\n",
       " (0.86, 0.7456, 0.33999999999999997),\n",
       " (0.8496, 0.86, 0.33999999999999997),\n",
       " (0.7247999999999999, 0.86, 0.33999999999999997),\n",
       " (0.6000000000000001, 0.86, 0.33999999999999997),\n",
       " (0.47519999999999996, 0.86, 0.33999999999999997),\n",
       " (0.3503999999999999, 0.86, 0.33999999999999997),\n",
       " (0.33999999999999997, 0.86, 0.4544),\n",
       " (0.33999999999999997, 0.86, 0.5792000000000002),\n",
       " (0.33999999999999997, 0.86, 0.7040000000000001),\n",
       " (0.33999999999999997, 0.86, 0.8288),\n",
       " (0.33999999999999997, 0.7663999999999997, 0.86),\n",
       " (0.33999999999999997, 0.6415999999999997, 0.86),\n",
       " (0.33999999999999997, 0.5167999999999999, 0.86),\n",
       " (0.33999999999999997, 0.3919999999999998, 0.86),\n",
       " (0.4128000000000003, 0.33999999999999997, 0.86),\n",
       " (0.5375999999999996, 0.33999999999999997, 0.86),\n",
       " (0.6623999999999999, 0.33999999999999997, 0.86),\n",
       " (0.7871999999999999, 0.33999999999999997, 0.86),\n",
       " (0.86, 0.33999999999999997, 0.808),\n",
       " (0.86, 0.33999999999999997, 0.6831999999999999),\n",
       " (0.86, 0.33999999999999997, 0.5583999999999998),\n",
       " (0.86, 0.33999999999999997, 0.4335999999999997)]"
      ]
     },
     "execution_count": 7,
     "metadata": {},
     "output_type": "execute_result"
    }
   ],
   "source": [
    "# sns.color_palette(\"hls\", 25)\n",
    "sns.color_palette(\"hls\", 25)"
   ]
  },
  {
   "cell_type": "code",
   "execution_count": 22,
   "id": "b7907b23",
   "metadata": {},
   "outputs": [
    {
     "data": {
      "text/plain": [
       "<AxesSubplot:>"
      ]
     },
     "execution_count": 22,
     "metadata": {},
     "output_type": "execute_result"
    },
    {
     "data": {
      "image/png": "[encoded data removed]",
      "text/plain": [
       "<Figure size 432x288 with 1 Axes>"
      ]
     },
     "metadata": {
      "needs_background": "light"
     },
     "output_type": "display_data"
    }
   ],
   "source": [
    "# data = np.random.normal(size=(20, 12)) + np.arange(12) / 2 \n",
    "# sns.boxplot(data=data,palette=sns.color_palette(\"hls\", 12))\n",
    "\n",
    "data = np.random.normal(size=(20, 12)) + np.arange(12) / 2\n",
    "sns.boxplot(data=data, palette=sns.color_palette(\"hls\", 12))"
   ]
  },
  {
   "cell_type": "code",
   "execution_count": 23,
   "id": "7870a24c",
   "metadata": {},
   "outputs": [
    {
     "data": {
      "image/png": "[encoded data removed]",
      "text/plain": [
       "<Figure size 432x72 with 1 Axes>"
      ]
     },
     "metadata": {
      "needs_background": "light"
     },
     "output_type": "display_data"
    },
    {
     "data": {
      "image/png": "[encoded data removed]",
      "text/plain": [
       "<Figure size 432x72 with 1 Axes>"
      ]
     },
     "metadata": {
      "needs_background": "light"
     },
     "output_type": "display_data"
    },
    {
     "data": {
      "image/png": "[encoded data removed]",
      "text/plain": [
       "<Figure size 432x72 with 1 Axes>"
      ]
     },
     "metadata": {
      "needs_background": "light"
     },
     "output_type": "display_data"
    }
   ],
   "source": [
    "# sns.palplot(sns.color_palette(\"Blues\")) \n",
    "# sns.palplot(sns.color_palette(\"Reds\")) \n",
    "# sns.palplot(sns.color_palette(\"Greens_r\"))\n",
    "\n",
    "sns.palplot(sns.color_palette(\"Blues\"))\n",
    "sns.palplot(sns.color_palette(\"Reds\"))\n",
    "sns.palplot(sns.color_palette(\"Greens_r\"))"
   ]
  },
  {
   "cell_type": "code",
   "execution_count": 24,
   "id": "a4404449",
   "metadata": {},
   "outputs": [
    {
     "data": {
      "image/png": "[encoded data removed]",
      "text/plain": [
       "<Figure size 216x72 with 1 Axes>"
      ]
     },
     "metadata": {
      "needs_background": "light"
     },
     "output_type": "display_data"
    }
   ],
   "source": [
    "#使用默認亮度和飽和度 \n",
    "# sns.palplot(sns.hls_palette(3))\n",
    "sns.palplot(sns.hls_palette(3))"
   ]
  },
  {
   "cell_type": "code",
   "execution_count": 25,
   "id": "cc5e4311",
   "metadata": {},
   "outputs": [
    {
     "data": {
      "image/png": "[encoded data removed]",
      "text/plain": [
       "<Figure size 216x72 with 1 Axes>"
      ]
     },
     "metadata": {
      "needs_background": "light"
     },
     "output_type": "display_data"
    }
   ],
   "source": [
    "# sns.palplot(sns.hls_palette(3, l=0.8, s=0.8))\n",
    "sns.palplot(sns.hls_palette(3, l=0.8, s=0.8))"
   ]
  },
  {
   "cell_type": "code",
   "execution_count": 29,
   "id": "51428eb5",
   "metadata": {},
   "outputs": [
    {
     "data": {
      "text/plain": [
       "[<matplotlib.lines.Line2D at 0x7fdaa66fe490>]"
      ]
     },
     "execution_count": 29,
     "metadata": {},
     "output_type": "execute_result"
    },
    {
     "data": {
      "image/png": "[encoded data removed]",
      "text/plain": [
       "<Figure size 432x288 with 1 Axes>"
      ]
     },
     "metadata": {
      "needs_background": "light"
     },
     "output_type": "display_data"
    }
   ],
   "source": [
    "#lw表示線寬\n",
    "# plt.plot([0, 1], [0, 1], sns.xkcd_rgb[\"purple\"], lw=2)\n",
    "# plt.plot([0, 1], [0, 2], sns.xkcd_rgb[\"green\"], lw=3)\n",
    "# plt.plot([0, 1], [0, 3], sns.xkcd_rgb[\"orange\"], lw=4)\n",
    "\n",
    "plt.plot([0, 1], [0, 1], sns.xkcd_rgb[\"purple\"], lw=2)\n",
    "plt.plot([0, 1], [0, 2], sns.xkcd_rgb[\"green\"], lw=3)\n",
    "plt.plot([0, 1], [0, 3], sns.xkcd_rgb[\"orange\"], lw=4)\n"
   ]
  },
  {
   "cell_type": "code",
   "execution_count": 30,
   "id": "6fa79b15",
   "metadata": {},
   "outputs": [
    {
     "data": {
      "image/png": "[encoded data removed]",
      "text/plain": [
       "<Figure size 720x72 with 1 Axes>"
      ]
     },
     "metadata": {
      "needs_background": "light"
     },
     "output_type": "display_data"
    },
    {
     "data": {
      "image/png": "[encoded data removed]",
      "text/plain": [
       "<Figure size 432x72 with 1 Axes>"
      ]
     },
     "metadata": {
      "needs_background": "light"
     },
     "output_type": "display_data"
    }
   ],
   "source": [
    "# sns.palplot(sns.color_palette()) \n",
    "# sns.palplot(sns.color_palette(\"cubehelix\"))\n",
    "\n",
    "sns.palplot(sns.color_palette())\n",
    "sns.palplot(sns.color_palette(\"cubehelix\"))"
   ]
  },
  {
   "cell_type": "code",
   "execution_count": 31,
   "id": "1e7dc6d8",
   "metadata": {},
   "outputs": [
    {
     "data": {
      "image/png": "[encoded data removed]",
      "text/plain": [
       "<Figure size 576x72 with 1 Axes>"
      ]
     },
     "metadata": {
      "needs_background": "light"
     },
     "output_type": "display_data"
    }
   ],
   "source": [
    "# sns.palplot(sns.cubehelix_palette(8, start=0.8, rot=-0.5))\n",
    "sns.palplot(sns.cubehelix_palette(8, start=0.8, rot=-0.5))"
   ]
  },
  {
   "cell_type": "code",
   "execution_count": 33,
   "id": "8efb858e",
   "metadata": {},
   "outputs": [
    {
     "data": {
      "image/png": "[encoded data removed]",
      "text/plain": [
       "<Figure size 432x72 with 1 Axes>"
      ]
     },
     "metadata": {
      "needs_background": "light"
     },
     "output_type": "display_data"
    },
    {
     "data": {
      "image/png": "[encoded data removed]",
      "text/plain": [
       "<Figure size 432x72 with 1 Axes>"
      ]
     },
     "metadata": {
      "needs_background": "light"
     },
     "output_type": "display_data"
    }
   ],
   "source": [
    "# sns.palplot(sns.light_palette(\"green\")) \n",
    "# sns.palplot(sns.dark_palette(\"green\"))\n",
    "\n",
    "sns.palplot(sns.light_palette(\"green\"))\n",
    "sns.palplot(sns.dark_palette(\"green\"))\n"
   ]
  },
  {
   "cell_type": "code",
   "execution_count": 36,
   "id": "0d0b51ce",
   "metadata": {},
   "outputs": [],
   "source": [
    "# x, y = np.random.multivariate_normal([0, 0], [[1, -.5], [-.5, 1]], size=600).T\n",
    "# pal = sns.dark_palette(\"green\", as_cmap=True) \n",
    "# sns.kdeplot(x, y, cmap=pal);\n",
    "\n",
    "x, y = np.random.multivariate_normal([0, 0], [[1, -.5], [-.5, 1]], size=600).T"
   ]
  },
  {
   "cell_type": "code",
   "execution_count": 47,
   "id": "fb604e89",
   "metadata": {},
   "outputs": [
    {
     "data": {
      "text/plain": [
       "<AxesSubplot:>"
      ]
     },
     "execution_count": 47,
     "metadata": {},
     "output_type": "execute_result"
    },
    {
     "data": {
      "image/png": "[encoded data removed]",
      "text/plain": [
       "<Figure size 432x288 with 1 Axes>"
      ]
     },
     "metadata": {
      "needs_background": "light"
     },
     "output_type": "display_data"
    }
   ],
   "source": [
    "# x, y = np.random.multivariate_normal([0, 0], [[1, -.5], [-.5, 1]], size=600).T \n",
    "# pal = sns.cubehelix_palette(light=1, as_cmap=True) \n",
    "# sns.kdeplot(x, y, cmap=pal, shade=True)\n",
    "\n",
    "x, y = np.random.multivariate_normal([0, 0], [[1, -.5], [-.5, 1]], size=600).T\n",
    "pal = sns.cubehelix_palette(light=1, as_cmap=True)\n",
    "sns.kdeplot(x, y, cmap=pal, shade=True)"
   ]
  },
  {
   "cell_type": "code",
   "execution_count": null,
   "id": "7435a646",
   "metadata": {},
   "outputs": [],
   "source": []
  }
 ],
 "metadata": {
  "kernelspec": {
   "display_name": "Python 3",
   "language": "python",
   "name": "python3"
  },
  "language_info": {
   "codemirror_mode": {
    "name": "ipython",
    "version": 3
   },
   "file_extension": ".py",
   "mimetype": "text/x-python",
   "name": "python",
   "nbconvert_exporter": "python",
   "pygments_lexer": "ipython3",
   "version": "3.8.8"
  }
 },
 "nbformat": 4,
 "nbformat_minor": 5
}
