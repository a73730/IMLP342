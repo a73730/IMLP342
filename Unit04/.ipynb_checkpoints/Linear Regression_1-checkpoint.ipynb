{
 "cells": [
  {
   "cell_type": "markdown",
   "metadata": {},
   "source": [
    "# Linear Regression\n"
   ]
  },
  {
   "cell_type": "code",
   "execution_count": 76,
   "metadata": {},
   "outputs": [],
   "source": [
    "%matplotlib inline\n",
    "import numpy as np\n",
    "import matplotlib.pyplot as plt"
   ]
  },
  {
   "cell_type": "markdown",
   "metadata": {},
   "source": [
    "## 1. 線性迴歸基本概念"
   ]
  },
  {
   "cell_type": "markdown",
   "metadata": {},
   "source": [
    "#### 直線\n",
    "\n",
    "$$f(x) = 1.2x + 0.8$$\n",
    "\n"
   ]
  },
  {
   "cell_type": "code",
   "execution_count": 77,
   "metadata": {},
   "outputs": [
    {
     "name": "stdout",
     "output_type": "stream",
     "text": [
      "[0.         0.10204082 0.20408163 0.30612245 0.40816327 0.51020408\n",
      " 0.6122449  0.71428571 0.81632653 0.91836735 1.02040816 1.12244898\n",
      " 1.2244898  1.32653061 1.42857143 1.53061224 1.63265306 1.73469388\n",
      " 1.83673469 1.93877551 2.04081633 2.14285714 2.24489796 2.34693878\n",
      " 2.44897959 2.55102041 2.65306122 2.75510204 2.85714286 2.95918367\n",
      " 3.06122449 3.16326531 3.26530612 3.36734694 3.46938776 3.57142857\n",
      " 3.67346939 3.7755102  3.87755102 3.97959184 4.08163265 4.18367347\n",
      " 4.28571429 4.3877551  4.48979592 4.59183673 4.69387755 4.79591837\n",
      " 4.89795918 5.        ]\n"
     ]
    }
   ],
   "source": [
    "#準備 50 個點\n",
    "#5-0/50 = 0.1 +....\n",
    "# 0~5線性切割\n",
    "# x = np.linspace(0, 5, 50)\n",
    "# print(x)\n",
    "\n",
    "x = np.linspace(0, 5, 50)\n",
    "print(x)"
   ]
  },
  {
   "cell_type": "code",
   "execution_count": 78,
   "metadata": {},
   "outputs": [
    {
     "data": {
      "text/plain": [
       "array([0.8       , 0.92244898, 1.04489796, 1.16734694, 1.28979592,\n",
       "       1.4122449 , 1.53469388, 1.65714286, 1.77959184, 1.90204082,\n",
       "       2.0244898 , 2.14693878, 2.26938776, 2.39183673, 2.51428571,\n",
       "       2.63673469, 2.75918367, 2.88163265, 3.00408163, 3.12653061,\n",
       "       3.24897959, 3.37142857, 3.49387755, 3.61632653, 3.73877551,\n",
       "       3.86122449, 3.98367347, 4.10612245, 4.22857143, 4.35102041,\n",
       "       4.47346939, 4.59591837, 4.71836735, 4.84081633, 4.96326531,\n",
       "       5.08571429, 5.20816327, 5.33061224, 5.45306122, 5.5755102 ,\n",
       "       5.69795918, 5.82040816, 5.94285714, 6.06530612, 6.1877551 ,\n",
       "       6.31020408, 6.43265306, 6.55510204, 6.67755102, 6.8       ])"
      ]
     },
     "execution_count": 78,
     "metadata": {},
     "output_type": "execute_result"
    }
   ],
   "source": [
    "# y = 1.2*x + 0.8\n",
    "# y\n",
    "y = 1.2*x + 0.8\n",
    "y"
   ]
  },
  {
   "cell_type": "code",
   "execution_count": 79,
   "metadata": {},
   "outputs": [
    {
     "data": {
      "text/plain": [
       "[<matplotlib.lines.Line2D at 0x7fc79c54b2b0>]"
      ]
     },
     "execution_count": 79,
     "metadata": {},
     "output_type": "execute_result"
    },
    {
     "data": {
      "image/png": "[encoded data removed]",
      "text/plain": [
       "<Figure size 432x288 with 1 Axes>"
      ]
     },
     "metadata": {
      "needs_background": "light"
     },
     "output_type": "display_data"
    }
   ],
   "source": [
    "#畫圖\n",
    "# plt.scatter(x,y)\n",
    "# plt.plot(x, 1.2*x+0.8, 'r')\n",
    "\n",
    "plt.scatter(x,y)\n",
    "plt.plot(x, 1.2*x + 0.8,  \"r\")"
   ]
  },
  {
   "cell_type": "markdown",
   "metadata": {},
   "source": [
    "#### add noise \n",
    "\n",
    "$$f(x) + \\varepsilon(x)$$\n"
   ]
  },
  {
   "cell_type": "code",
   "execution_count": 82,
   "metadata": {},
   "outputs": [
    {
     "name": "stdout",
     "output_type": "stream",
     "text": [
      "[ 1.02997026  1.6171437   0.1652224   2.720403    0.5242304   3.05252635\n",
      "  1.75555994 -0.47347014  1.51026544  1.51882014  2.35710206  1.87787651\n",
      "  1.66774647  1.82765861  4.03902072  3.50216073  2.99096214  2.91552227\n",
      "  2.7859362   3.01617805  3.32485013  3.48457938  3.63343653  3.96080732\n",
      "  3.67204095  3.92505969  3.48583593  4.21304897  4.984328    4.42953787\n",
      "  5.36270856  3.75716809  4.93711686  5.06502937  4.75961601  5.51295799\n",
      "  4.02214347  4.30149769  5.64659348  5.69964272  5.62726557  6.09605892\n",
      "  5.06822391  5.90010112  6.38725003  6.07986353  6.16850118  6.81100823\n",
      "  6.81614793  6.7474034 ]\n"
     ]
    }
   ],
   "source": [
    "# y = 1.2*x + 0.8 + 0.6*np.random.randn(50)\n",
    "# print(y)\n",
    "\n",
    "y = 1.2*x + 0.8 +0.6*np.random.randn(50)\n",
    "print(y)"
   ]
  },
  {
   "cell_type": "code",
   "execution_count": 83,
   "metadata": {},
   "outputs": [
    {
     "data": {
      "text/plain": [
       "[<matplotlib.lines.Line2D at 0x7fc79bfffac0>]"
      ]
     },
     "execution_count": 83,
     "metadata": {},
     "output_type": "execute_result"
    },
    {
     "data": {
      "image/png": "[encoded data removed]",
      "text/plain": [
       "<Figure size 432x288 with 1 Axes>"
      ]
     },
     "metadata": {
      "needs_background": "light"
     },
     "output_type": "display_data"
    }
   ],
   "source": [
    "# plt.scatter(x,y)\n",
    "# plt.plot(x, 1.2*x + 0.8, 'r')\n",
    "\n",
    "plt.scatter(x,y)\n",
    "plt.plot(x, 1.2*x + 0.8, \"r\")"
   ]
  },
  {
   "cell_type": "code",
   "execution_count": 84,
   "metadata": {},
   "outputs": [],
   "source": [
    "# from sklearn.linear_model import LinearRegression\n",
    "# regr = LinearRegression()\n",
    "\n",
    "from sklearn.linear_model import LinearRegression\n",
    "regr = LinearRegression()"
   ]
  },
  {
   "cell_type": "code",
   "execution_count": 85,
   "metadata": {},
   "outputs": [
    {
     "data": {
      "text/plain": [
       "LinearRegression()"
      ]
     },
     "execution_count": 85,
     "metadata": {},
     "output_type": "execute_result"
    }
   ],
   "source": [
    "regr"
   ]
  },
  {
   "cell_type": "markdown",
   "metadata": {},
   "source": [
    "要求資料轉換<br>\n",
    "\n",
    "$$[x_1, x_2, \\ldots, x_{50}]$$\n",
    "\n",
    "==> \n",
    "\n",
    "$$[[x_1], [x_2], \\ldots, [x_{50}]]$$\n",
    "\n",
    "\n",
    "矩陣的概念"
   ]
  },
  {
   "cell_type": "code",
   "execution_count": 86,
   "metadata": {},
   "outputs": [
    {
     "name": "stdout",
     "output_type": "stream",
     "text": [
      "(50,)\n"
     ]
    },
    {
     "data": {
      "text/plain": [
       "(50, 1)"
      ]
     },
     "execution_count": 86,
     "metadata": {},
     "output_type": "execute_result"
    }
   ],
   "source": [
    "# print(x.shape)\n",
    "# X = x.reshape(-1,1)\n",
    "# X.shape\n",
    "\n",
    "print(x.shape)\n",
    "X = x.reshape(-1,1)\n",
    "X.shape"
   ]
  },
  {
   "cell_type": "code",
   "execution_count": 87,
   "metadata": {},
   "outputs": [
    {
     "data": {
      "text/plain": [
       "LinearRegression()"
      ]
     },
     "execution_count": 87,
     "metadata": {},
     "output_type": "execute_result"
    }
   ],
   "source": [
    "# regr.fit(X,y)\n",
    "regr.fit(X,y)"
   ]
  },
  {
   "cell_type": "code",
   "execution_count": 90,
   "metadata": {},
   "outputs": [
    {
     "name": "stdout",
     "output_type": "stream",
     "text": [
      "[0.92124927 1.03897841 1.15670755 1.27443669 1.39216582 1.50989496\n",
      " 1.6276241  1.74535324 1.86308238 1.98081152 2.09854065 2.21626979\n",
      " 2.33399893 2.45172807 2.56945721 2.68718635 2.80491548 2.92264462\n",
      " 3.04037376 3.1581029  3.27583204 3.39356118 3.51129032 3.62901945\n",
      " 3.74674859 3.86447773 3.98220687 4.09993601 4.21766515 4.33539428\n",
      " 4.45312342 4.57085256 4.6885817  4.80631084 4.92403998 5.04176911\n",
      " 5.15949825 5.27722739 5.39495653 5.51268567 5.63041481 5.74814394\n",
      " 5.86587308 5.98360222 6.10133136 6.2190605  6.33678964 6.45451878\n",
      " 6.57224791 6.68997705]\n"
     ]
    }
   ],
   "source": [
    "# Y = regr.predict(X)\n",
    "# print(Y)\n",
    "\n",
    "Y = regr.predict(X)\n",
    "print(Y)"
   ]
  },
  {
   "cell_type": "code",
   "execution_count": 91,
   "metadata": {},
   "outputs": [
    {
     "data": {
      "text/plain": [
       "{'copy_X': True,\n",
       " 'fit_intercept': True,\n",
       " 'n_jobs': None,\n",
       " 'normalize': False,\n",
       " 'positive': False}"
      ]
     },
     "execution_count": 91,
     "metadata": {},
     "output_type": "execute_result"
    }
   ],
   "source": [
    "#了解你的訓練參數\n",
    "# regr.get_params()\n",
    "\n",
    "regr.get_params()"
   ]
  },
  {
   "cell_type": "code",
   "execution_count": 92,
   "metadata": {},
   "outputs": [
    {
     "name": "stdout",
     "output_type": "stream",
     "text": [
      "0.4416786557681388\n"
     ]
    },
    {
     "data": {
      "image/png": "[encoded data removed]",
      "text/plain": [
       "<Figure size 432x288 with 1 Axes>"
      ]
     },
     "metadata": {
      "needs_background": "light"
     },
     "output_type": "display_data"
    }
   ],
   "source": [
    "# plt.scatter(x, y) #原本 \n",
    "# plt.plot(x, Y, 'ro') #預測\n",
    "# #calculate mse\n",
    "# mse = np.sum((Y-y)**2) / len(y)\n",
    "# print(mse)\n",
    "\n",
    "plt.scatter(x,y)\n",
    "plt.plot(x, Y, \"ro\")\n",
    "\n",
    "mes = np.sum((Y-y)**2) /len(y)\n",
    "print(mes)"
   ]
  },
  {
   "cell_type": "code",
   "execution_count": 99,
   "metadata": {},
   "outputs": [
    {
     "data": {
      "text/plain": [
       "array([1.15374556])"
      ]
     },
     "execution_count": 99,
     "metadata": {},
     "output_type": "execute_result"
    }
   ],
   "source": [
    "#Y=WX+b\n",
    "# W=regr.coef_#斜率\n",
    "# W\n",
    "\n",
    "W = regr.coef_\n",
    "W\n"
   ]
  },
  {
   "cell_type": "code",
   "execution_count": 100,
   "metadata": {},
   "outputs": [
    {
     "data": {
      "text/plain": [
       "0.9212492702225061"
      ]
     },
     "execution_count": 100,
     "metadata": {},
     "output_type": "execute_result"
    }
   ],
   "source": [
    "# b=regr.intercept_ #截距\n",
    "# b\n",
    "\n",
    "b = regr.intercept_\n",
    "b"
   ]
  },
  {
   "cell_type": "code",
   "execution_count": 101,
   "metadata": {},
   "outputs": [
    {
     "data": {
      "text/plain": [
       "array([0.92124927, 1.03897841, 1.15670755, 1.27443669, 1.39216582,\n",
       "       1.50989496, 1.6276241 , 1.74535324, 1.86308238, 1.98081152,\n",
       "       2.09854065, 2.21626979, 2.33399893, 2.45172807, 2.56945721,\n",
       "       2.68718635, 2.80491548, 2.92264462, 3.04037376, 3.1581029 ,\n",
       "       3.27583204, 3.39356118, 3.51129032, 3.62901945, 3.74674859,\n",
       "       3.86447773, 3.98220687, 4.09993601, 4.21766515, 4.33539428,\n",
       "       4.45312342, 4.57085256, 4.6885817 , 4.80631084, 4.92403998,\n",
       "       5.04176911, 5.15949825, 5.27722739, 5.39495653, 5.51268567,\n",
       "       5.63041481, 5.74814394, 5.86587308, 5.98360222, 6.10133136,\n",
       "       6.2190605 , 6.33678964, 6.45451878, 6.57224791, 6.68997705])"
      ]
     },
     "execution_count": 101,
     "metadata": {},
     "output_type": "execute_result"
    }
   ],
   "source": [
    "Y"
   ]
  },
  {
   "cell_type": "code",
   "execution_count": 102,
   "metadata": {
    "scrolled": true
   },
   "outputs": [
    {
     "data": {
      "text/plain": [
       "array([4.38248594])"
      ]
     },
     "execution_count": 102,
     "metadata": {},
     "output_type": "execute_result"
    }
   ],
   "source": [
    "#可以將新的x資料帶入算出結果\n",
    "# W*3+b\n",
    "\n",
    "W*3+b"
   ]
  },
  {
   "cell_type": "code",
   "execution_count": 104,
   "metadata": {},
   "outputs": [
    {
     "data": {
      "text/plain": [
       "array([ 1.02997026,  1.6171437 ,  0.1652224 ,  2.720403  ,  0.5242304 ,\n",
       "        3.05252635,  1.75555994, -0.47347014,  1.51026544,  1.51882014,\n",
       "        2.35710206,  1.87787651,  1.66774647,  1.82765861,  4.03902072,\n",
       "        3.50216073,  2.99096214,  2.91552227,  2.7859362 ,  3.01617805,\n",
       "        3.32485013,  3.48457938,  3.63343653,  3.96080732,  3.67204095,\n",
       "        3.92505969,  3.48583593,  4.21304897,  4.984328  ,  4.42953787,\n",
       "        5.36270856,  3.75716809,  4.93711686,  5.06502937,  4.75961601,\n",
       "        5.51295799,  4.02214347,  4.30149769,  5.64659348,  5.69964272,\n",
       "        5.62726557,  6.09605892,  5.06822391,  5.90010112,  6.38725003,\n",
       "        6.07986353,  6.16850118,  6.81100823,  6.81614793,  6.7474034 ])"
      ]
     },
     "execution_count": 104,
     "metadata": {},
     "output_type": "execute_result"
    }
   ],
   "source": [
    "y"
   ]
  },
  {
   "cell_type": "code",
   "execution_count": null,
   "metadata": {},
   "outputs": [],
   "source": []
  }
 ],
 "metadata": {
  "anaconda-cloud": {},
  "kernelspec": {
   "display_name": "Python 3",
   "language": "python",
   "name": "python3"
  },
  "language_info": {
   "codemirror_mode": {
    "name": "ipython",
    "version": 3
   },
   "file_extension": ".py",
   "mimetype": "text/x-python",
   "name": "python",
   "nbconvert_exporter": "python",
   "pygments_lexer": "ipython3",
   "version": "3.8.8"
  }
 },
 "nbformat": 4,
 "nbformat_minor": 1
}
