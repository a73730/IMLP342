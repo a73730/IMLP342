{
 "cells": [
  {
   "cell_type": "markdown",
   "metadata": {},
   "source": [
    "# Linear Regression\n"
   ]
  },
  {
   "cell_type": "code",
   "execution_count": 37,
   "metadata": {},
   "outputs": [],
   "source": [
    "%matplotlib inline\n",
    "import numpy as np\n",
    "import matplotlib.pyplot as plt"
   ]
  },
  {
   "cell_type": "markdown",
   "metadata": {},
   "source": [
    "## 2.  線性迴歸訓練資料、測試資料\n",
    "\n",
    "80%  training data, 20%  testing data ==> 先利用此來驗證各種模型(演算法)的好壞及調好到最佳參數\n",
    "之後可以利用由這個80%的訓練資料所得的模型後,拿100%資料re-train模型以得到最佳模型 (此model會更佳fit data)\n"
   ]
  },
  {
   "cell_type": "code",
   "execution_count": 38,
   "metadata": {},
   "outputs": [],
   "source": [
    "# from sklearn.model_selection import train_test_split\n",
    "# from sklearn.linear_model import LinearRegression\n",
    "\n",
    "from sklearn.model_selection import train_test_split\n",
    "from sklearn.linear_model import LinearRegression"
   ]
  },
  {
   "cell_type": "code",
   "execution_count": 39,
   "metadata": {},
   "outputs": [
    {
     "name": "stdout",
     "output_type": "stream",
     "text": [
      "[4.08163265 1.73469388 1.83673469 0.         2.75510204 3.36734694\n",
      " 3.67346939 4.28571429 1.02040816 0.30612245 4.18367347 1.32653061\n",
      " 4.69387755 0.20408163 3.87755102 3.97959184 0.51020408 4.3877551\n",
      " 3.7755102  3.06122449 0.6122449  2.95918367 1.63265306 1.93877551\n",
      " 5.         4.48979592 2.14285714 3.26530612 3.46938776 0.71428571\n",
      " 2.24489796 1.12244898 2.04081633 0.91836735 4.89795918 2.85714286\n",
      " 3.16326531 1.53061224 2.65306122 3.57142857]\n"
     ]
    }
   ],
   "source": [
    "# x = np.linspace(0, 5, 50)\n",
    "# y = 1.2*x + 0.8 + 0.6*np.random.randn(50)\n",
    "# x_train, x_test, y_train, y_test = train_test_split(x, y, test_size=0.2, random_state=20)\n",
    "# print(x_train)\n",
    "\n",
    "x = np.linspace(0, 5, 50)\n",
    "y = 1.2*x + 0.8 + 0.6*np.random.randn(50)\n",
    "x_train, x_test, y_train, y_test = train_test_split(x, y, test_size = 0.2, random_state = 20)\n",
    "print(x_train)\n"
   ]
  },
  {
   "cell_type": "code",
   "execution_count": 40,
   "metadata": {},
   "outputs": [
    {
     "data": {
      "text/plain": [
       "array([ 0.5547465 ,  0.78750786,  1.6382894 ,  0.42920886,  1.39324229,\n",
       "        1.76125962,  0.92627537,  2.42420211,  0.53805939, -0.2164643 ,\n",
       "        1.71399678,  2.27301827,  1.76400689,  2.25165657,  2.24361438,\n",
       "        2.53948955,  2.77570434,  3.40598732,  3.14832483,  2.88200995,\n",
       "        2.98227645,  4.5152441 ,  4.00880032,  2.55688462,  3.17603755,\n",
       "        4.11792186,  3.55249621,  4.92471689,  3.84813442,  4.34253858,\n",
       "        3.72365344,  4.60656882,  4.82137764,  5.80679816,  5.54779796,\n",
       "        4.83376528,  5.69090937,  5.60792934,  6.50001695,  5.00399944,\n",
       "        5.80754554,  4.68581033,  5.80623625,  6.88810858,  6.09587876,\n",
       "        5.16334576,  6.36020429,  7.15751289,  6.2070555 ,  7.12468383])"
      ]
     },
     "execution_count": 40,
     "metadata": {},
     "output_type": "execute_result"
    }
   ],
   "source": [
    "y"
   ]
  },
  {
   "cell_type": "code",
   "execution_count": 41,
   "metadata": {},
   "outputs": [
    {
     "data": {
      "text/plain": [
       "<matplotlib.collections.PathCollection at 0x7f8405035820>"
      ]
     },
     "execution_count": 41,
     "metadata": {},
     "output_type": "execute_result"
    },
    {
     "data": {
      "image/png": "[encoded data removed]",
      "text/plain": [
       "<Figure size 432x288 with 1 Axes>"
      ]
     },
     "metadata": {
      "needs_background": "light"
     },
     "output_type": "display_data"
    }
   ],
   "source": [
    "# plt.scatter(x_train, y_train)\n",
    "plt.scatter(x_train, y_train)"
   ]
  },
  {
   "cell_type": "markdown",
   "metadata": {},
   "source": [
    "#### 用訓練資料來 fit 函數\n",
    "\n",
    "記得現在我們只用 80% 的資料去訓練。"
   ]
  },
  {
   "cell_type": "code",
   "execution_count": 42,
   "metadata": {
    "scrolled": true
   },
   "outputs": [
    {
     "name": "stdout",
     "output_type": "stream",
     "text": [
      "Coefficients:  [1.25113782]\n",
      "interception:  0.6831112653743352\n"
     ]
    }
   ],
   "source": [
    "# regr = LinearRegression()\n",
    "# X_train = x_train.reshape(-1,1)\n",
    "# regr.fit(X_train,y_train)\n",
    "# print('Coefficients: ', regr.coef_)\n",
    "# print('interception: ', regr.intercept_)\n",
    "\n",
    "regr = LinearRegression()\n",
    "X_train = x_train.reshape(-1,1)\n",
    "regr.fit(X_train, y_train)\n",
    "print(\"Coefficients: \", regr.coef_)\n",
    "print(\"interception: \", regr.intercept_)"
   ]
  },
  {
   "cell_type": "code",
   "execution_count": 43,
   "metadata": {},
   "outputs": [],
   "source": [
    "# Y_train = regr.predict(X_train)\n",
    "Y_train = regr.predict(X_train)"
   ]
  },
  {
   "cell_type": "code",
   "execution_count": 44,
   "metadata": {},
   "outputs": [
    {
     "name": "stdout",
     "output_type": "stream",
     "text": [
      "0.38552196202529976\n"
     ]
    }
   ],
   "source": [
    "# mse = np.sum((Y_train-y_train)**2) / len(y_train)\n",
    "# print(mse)\n",
    "\n",
    "mse = np.sum((Y_train - y_train)**2) / len(y_train)\n",
    "print(mse)"
   ]
  },
  {
   "cell_type": "code",
   "execution_count": 45,
   "metadata": {},
   "outputs": [
    {
     "data": {
      "text/plain": [
       "[<matplotlib.lines.Line2D at 0x7f8405132eb0>]"
      ]
     },
     "execution_count": 45,
     "metadata": {},
     "output_type": "execute_result"
    },
    {
     "data": {
      "image/png": "[encoded data removed]",
      "text/plain": [
       "<Figure size 432x288 with 1 Axes>"
      ]
     },
     "metadata": {
      "needs_background": "light"
     },
     "output_type": "display_data"
    }
   ],
   "source": [
    "# plt.scatter(x_train, y_train)\n",
    "# plt.plot(x_train, Y_train, 'r')\n",
    "\n",
    "plt.scatter(x_train, y_train)\n",
    "plt.plot(X_train, Y_train, \"r\")"
   ]
  },
  {
   "cell_type": "markdown",
   "metadata": {},
   "source": [
    "#### test with test data"
   ]
  },
  {
   "cell_type": "code",
   "execution_count": 46,
   "metadata": {},
   "outputs": [
    {
     "name": "stdout",
     "output_type": "stream",
     "text": [
      "[2.21511676 2.47045101 1.19377976 1.70444826 6.42813186 0.81077839\n",
      " 3.87478937 3.74712225 6.68346611 3.61945512]\n"
     ]
    }
   ],
   "source": [
    "# X_test = x_test.reshape(-1,1)\n",
    "# Y_test = regr.predict(X_test)\n",
    "\n",
    "# print(Y_test)\n",
    "\n",
    "X_test = x_test.reshape(-1,1)\n",
    "Y_test = regr.predict(X_test)\n",
    "\n",
    "print(Y_test)"
   ]
  },
  {
   "cell_type": "markdown",
   "metadata": {},
   "source": [
    "$$\\widehat{y}=xw+b=w_{1}x_{1}+b$$"
   ]
  },
  {
   "cell_type": "code",
   "execution_count": 47,
   "metadata": {},
   "outputs": [
    {
     "data": {
      "text/plain": [
       "array([[2.21511676],\n",
       "       [2.47045101],\n",
       "       [1.19377976],\n",
       "       [1.70444826],\n",
       "       [6.42813186],\n",
       "       [0.81077839],\n",
       "       [3.87478937],\n",
       "       [3.74712225],\n",
       "       [6.68346611],\n",
       "       [3.61945512]])"
      ]
     },
     "execution_count": 47,
     "metadata": {},
     "output_type": "execute_result"
    }
   ],
   "source": [
    "#Y=WX+b\n",
    "# W=regr.coef_\n",
    "# b=regr.intercept_\n",
    "# W*X_test+b\n",
    "\n",
    "W = regr.coef_\n",
    "b = regr.intercept_\n",
    "W*X_test+b\n"
   ]
  },
  {
   "cell_type": "code",
   "execution_count": 48,
   "metadata": {},
   "outputs": [
    {
     "name": "stdout",
     "output_type": "stream",
     "text": [
      "0.49944562155310646\n"
     ]
    }
   ],
   "source": [
    "# mse = np.sum((Y_test-y_test)**2) / len(y_test)\n",
    "# print(mse)\n",
    "\n",
    "mse = np.sum((Y_test - y_test)**2)/ len(y_test)\n",
    "print(mse)"
   ]
  },
  {
   "cell_type": "code",
   "execution_count": 59,
   "metadata": {
    "scrolled": false
   },
   "outputs": [
    {
     "data": {
      "text/plain": [
       "<matplotlib.legend.Legend at 0x7f84055201f0>"
      ]
     },
     "execution_count": 59,
     "metadata": {},
     "output_type": "execute_result"
    },
    {
     "data": {
      "image/png": "[encoded data removed]",
      "text/plain": [
       "<Figure size 432x288 with 1 Axes>"
      ]
     },
     "metadata": {
      "needs_background": "light"
     },
     "output_type": "display_data"
    }
   ],
   "source": [
    "# title='f(x)=1.2x+0.8'+',mse:'+str(round(mse,2))\n",
    "# plt.title(title)\n",
    "# plt.xlabel('x')\n",
    "# plt.ylabel('y')\n",
    "# #plt.grid(True)\n",
    "# plt.scatter(x_test, y_test,alpha=0.8,label='Ground Truth')\n",
    "# plt.scatter(x_test, Y_test, c='r', alpha=0.8,label='Predict')\n",
    "# plt.legend()\n",
    "\n",
    "title=\"f(x)= 1.2x + 0.8 \"+\",mse: \"+str(round(mse,2))\n",
    "plt.title(title)\n",
    "plt.xlabel(\"x\")\n",
    "plt.ylabel(\"y\")\n",
    "#plt.grid(True)\n",
    "plt.scatter(x_test, y_test, alpha=0.8, label=\"Ground Truth\")\n",
    "plt.scatter(X_test, Y_test, c=\"r\", alpha=0.8, label=\"Predict\")\n",
    "plt.legend()"
   ]
  },
  {
   "cell_type": "code",
   "execution_count": null,
   "metadata": {},
   "outputs": [],
   "source": []
  },
  {
   "cell_type": "code",
   "execution_count": null,
   "metadata": {},
   "outputs": [],
   "source": []
  }
 ],
 "metadata": {
  "anaconda-cloud": {},
  "kernelspec": {
   "display_name": "Python 3",
   "language": "python",
   "name": "python3"
  },
  "language_info": {
   "codemirror_mode": {
    "name": "ipython",
    "version": 3
   },
   "file_extension": ".py",
   "mimetype": "text/x-python",
   "name": "python",
   "nbconvert_exporter": "python",
   "pygments_lexer": "ipython3",
   "version": "3.8.8"
  }
 },
 "nbformat": 4,
 "nbformat_minor": 1
}
