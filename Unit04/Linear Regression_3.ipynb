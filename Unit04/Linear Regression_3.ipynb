{
 "cells": [
  {
   "cell_type": "markdown",
   "metadata": {},
   "source": [
    "# Linear Regression\n"
   ]
  },
  {
   "cell_type": "code",
   "execution_count": 42,
   "metadata": {},
   "outputs": [],
   "source": [
    "# %matplotlib inline\n",
    "# import numpy as np\n",
    "# import matplotlib.pyplot as plt\n",
    "# from sklearn.linear_model import LinearRegression\n",
    "\n",
    "%matplotlib inline\n",
    "import numpy as np\n",
    "import matplotlib.pyplot as plt\n",
    "from sklearn.linear_model import LinearRegression\n",
    "\n"
   ]
  },
  {
   "cell_type": "markdown",
   "metadata": {},
   "source": [
    "## 3. Nonlinear\n",
    "\n",
    "$$f(x) = \\sin(3.2x) + 0.8x$$\n"
   ]
  },
  {
   "cell_type": "markdown",
   "metadata": {},
   "source": [
    "### 3. 生成假資料"
   ]
  },
  {
   "cell_type": "code",
   "execution_count": 43,
   "metadata": {},
   "outputs": [],
   "source": [
    "# x = np.linspace(0, 5, 100)\n",
    "# y = np.sin(3.2*x) + 0.8*x + 0.3*np.random.randn(100)\n",
    "\n",
    "x = np.linspace(0, 5, 100)\n",
    "y = np.sin(3.2*x) + 0.8*x + 0.3*np.random.randn(100)\n"
   ]
  },
  {
   "cell_type": "code",
   "execution_count": 44,
   "metadata": {},
   "outputs": [
    {
     "data": {
      "text/plain": [
       "<matplotlib.collections.PathCollection at 0x7fccd2a69fa0>"
      ]
     },
     "execution_count": 44,
     "metadata": {},
     "output_type": "execute_result"
    },
    {
     "data": {
      "image/png": "[encoded data removed]",
      "text/plain": [
       "<Figure size 432x288 with 1 Axes>"
      ]
     },
     "metadata": {
      "needs_background": "light"
     },
     "output_type": "display_data"
    }
   ],
   "source": [
    "# plt.scatter(x,y)\n",
    "plt.scatter(x,y)"
   ]
  },
  {
   "cell_type": "markdown",
   "metadata": {},
   "source": [
    "#### nonlinear"
   ]
  },
  {
   "cell_type": "code",
   "execution_count": 45,
   "metadata": {},
   "outputs": [],
   "source": [
    "# regr_lin = LinearRegression()\n",
    "\n",
    "regr_lin = LinearRegression()"
   ]
  },
  {
   "cell_type": "code",
   "execution_count": 46,
   "metadata": {},
   "outputs": [
    {
     "name": "stdout",
     "output_type": "stream",
     "text": [
      "(100, 1)\n"
     ]
    }
   ],
   "source": [
    "# X = x.reshape(-1, 1)\n",
    "# print(X.shape)\n",
    "\n",
    "X = x.reshape(-1,1)\n",
    "\n",
    "print(X.shape)"
   ]
  },
  {
   "cell_type": "code",
   "execution_count": 47,
   "metadata": {},
   "outputs": [
    {
     "data": {
      "text/plain": [
       "LinearRegression()"
      ]
     },
     "execution_count": 47,
     "metadata": {},
     "output_type": "execute_result"
    }
   ],
   "source": [
    "# regr_lin.fit(X,y)\n",
    "regr_lin.fit(X,y)"
   ]
  },
  {
   "cell_type": "code",
   "execution_count": 48,
   "metadata": {},
   "outputs": [
    {
     "name": "stdout",
     "output_type": "stream",
     "text": [
      "0.4672717986296879\n"
     ]
    },
    {
     "data": {
      "image/png": "[encoded data removed]",
      "text/plain": [
       "<Figure size 432x288 with 1 Axes>"
      ]
     },
     "metadata": {
      "needs_background": "light"
     },
     "output_type": "display_data"
    }
   ],
   "source": [
    "# Y=regr_lin.predict(X)\n",
    "# plt.scatter(x,y)\n",
    "# plt.plot(x,Y , color='r')\n",
    "# mse = np.sum((Y-y)**2) / len(y)\n",
    "# print(mse)\n",
    "\n",
    "Y = regr_lin.predict(X)\n",
    "plt.scatter(x,y)\n",
    "plt.plot(x,Y , color=\"r\")\n",
    "mse = np.sum((Y-y)**2) / len(y)\n",
    "print(mse)"
   ]
  },
  {
   "cell_type": "markdown",
   "metadata": {},
   "source": [
    "果然超級不準, 該如何是好?"
   ]
  },
  {
   "cell_type": "markdown",
   "metadata": {},
   "source": [
    "#### 多項式\n",
    "\n",
    "多項式5次方"
   ]
  },
  {
   "cell_type": "markdown",
   "metadata": {},
   "source": [
    "$$\\widehat{y}=xw+b=w_{1}x_{1}+w_{2}x_{1}^{2}+w_{3}x_{1}^{3}+w_{4}x_{1}^{4}+w_{5}x_{1}^{5}+b$$"
   ]
  },
  {
   "cell_type": "code",
   "execution_count": 49,
   "metadata": {},
   "outputs": [
    {
     "name": "stdout",
     "output_type": "stream",
     "text": [
      "(100,)\n"
     ]
    }
   ],
   "source": [
    "# print(x.shape)\n",
    "print(x.shape)"
   ]
  },
  {
   "cell_type": "code",
   "execution_count": 50,
   "metadata": {},
   "outputs": [
    {
     "name": "stdout",
     "output_type": "stream",
     "text": [
      "(100, 5)\n"
     ]
    }
   ],
   "source": [
    "# X_poly = np.array([[k, k**2, k**3, k**4, k**5] for k in x])  # add k**6 to try it\n",
    "# print(X_poly.shape)\n",
    "\n",
    "X_poly = np.array([[k, k**2, k**3, k**4, k**5] for k in x])\n",
    "print(X_poly.shape)"
   ]
  },
  {
   "cell_type": "code",
   "execution_count": 51,
   "metadata": {},
   "outputs": [],
   "source": [
    "# regr_poly = LinearRegression()\n",
    "regr_poly = LinearRegression()"
   ]
  },
  {
   "cell_type": "code",
   "execution_count": 52,
   "metadata": {},
   "outputs": [
    {
     "data": {
      "text/plain": [
       "LinearRegression()"
      ]
     },
     "execution_count": 52,
     "metadata": {},
     "output_type": "execute_result"
    }
   ],
   "source": [
    "# regr_poly.fit(X_poly, y)\n",
    "regr_poly.fit(X_poly, y)"
   ]
  },
  {
   "cell_type": "code",
   "execution_count": 53,
   "metadata": {},
   "outputs": [
    {
     "data": {
      "text/plain": [
       "[<matplotlib.lines.Line2D at 0x7fccd2ab8dc0>]"
      ]
     },
     "execution_count": 53,
     "metadata": {},
     "output_type": "execute_result"
    },
    {
     "data": {
      "image/png": "[encoded data removed]",
      "text/plain": [
       "<Figure size 432x288 with 1 Axes>"
      ]
     },
     "metadata": {
      "needs_background": "light"
     },
     "output_type": "display_data"
    }
   ],
   "source": [
    "# plt.scatter(x,y)\n",
    "# plt.plot(x, regr_poly.predict(X_poly), 'r')\n",
    "\n",
    "plt.scatter(x,y)\n",
    "plt.plot(x, regr_poly.predict(X_poly), \"r\")"
   ]
  },
  {
   "cell_type": "code",
   "execution_count": 54,
   "metadata": {},
   "outputs": [
    {
     "name": "stdout",
     "output_type": "stream",
     "text": [
      "Coefficients:  [-1.34734112  1.69049383 -0.64871672  0.12026881 -0.00837711]\n",
      "interception:  1.004879515977291\n"
     ]
    }
   ],
   "source": [
    "# print('Coefficients: ', regr_poly.coef_)\n",
    "# print('interception: ', regr_poly.intercept_)\n",
    "\n",
    "print(\"Coefficients: \", regr_poly.coef_)\n",
    "print(\"interception: \", regr_poly.intercept_)"
   ]
  },
  {
   "cell_type": "code",
   "execution_count": 55,
   "metadata": {},
   "outputs": [
    {
     "data": {
      "text/plain": [
       "array([1.00487952, 0.94106124, 0.88537649, 0.8373516 , 0.79653101,\n",
       "       0.76247697, 0.73476916, 0.71300441, 0.69679634, 0.68577504,\n",
       "       0.67958674, 0.67789348, 0.68037276, 0.68671725, 0.69663443,\n",
       "       0.70984624, 0.72608881, 0.74511209, 0.76667951, 0.79056766,\n",
       "       0.816566  , 0.84447646, 0.87411315, 0.90530203, 0.93788057,\n",
       "       0.97169742, 1.0066121 , 1.04249463, 1.07922523, 1.11669397,\n",
       "       1.15480048, 1.19345356, 1.2325709 , 1.27207873, 1.31191146,\n",
       "       1.35201143, 1.39232848, 1.4328197 , 1.47344906, 1.51418709,\n",
       "       1.55501053, 1.59590204, 1.63684985, 1.6778474 , 1.71889305,\n",
       "       1.75998976, 1.80114469, 1.84236896, 1.88367724, 1.92508747,\n",
       "       1.96662053, 2.00829986, 2.05015118, 2.09220216, 2.13448205,\n",
       "       2.17702139, 2.21985164, 2.26300489, 2.30651351, 2.35040982,\n",
       "       2.39472576, 2.43949256, 2.48474041, 2.53049813, 2.57679284,\n",
       "       2.62364963, 2.67109124, 2.71913771, 2.76780604, 2.81710991,\n",
       "       2.86705929, 2.91766017, 2.96891416, 3.02081822, 3.0733643 ,\n",
       "       3.12653902, 3.18032334, 3.2346922 , 3.28961425, 3.34505146,\n",
       "       3.40095883, 3.45728403, 3.5139671 , 3.57094008, 3.62812673,\n",
       "       3.68544216, 3.74279251, 3.80007462, 3.85717572, 3.91397305,\n",
       "       3.9703336 , 4.02611371, 4.08115878, 4.13530294, 4.18836869,\n",
       "       4.24016661, 4.29049499, 4.33913954, 4.38587303, 4.43045495])"
      ]
     },
     "execution_count": 55,
     "metadata": {},
     "output_type": "execute_result"
    }
   ],
   "source": [
    "# W=regr_poly.coef_\n",
    "# b=regr_poly.intercept_\n",
    "# np.dot(X_poly,W.T)+b\n",
    "\n",
    "W = regr_poly.coef_\n",
    "b = regr_poly.intercept_\n",
    "np.dot(X_poly,W.T)+b"
   ]
  },
  {
   "cell_type": "code",
   "execution_count": 57,
   "metadata": {},
   "outputs": [
    {
     "data": {
      "text/plain": [
       "array([1.00487952, 0.94106124, 0.88537649, 0.8373516 , 0.79653101,\n",
       "       0.76247697, 0.73476916, 0.71300441, 0.69679634, 0.68577504,\n",
       "       0.67958674, 0.67789348, 0.68037276, 0.68671725, 0.69663443,\n",
       "       0.70984624, 0.72608881, 0.74511209, 0.76667951, 0.79056766,\n",
       "       0.816566  , 0.84447646, 0.87411315, 0.90530203, 0.93788057,\n",
       "       0.97169742, 1.0066121 , 1.04249463, 1.07922523, 1.11669397,\n",
       "       1.15480048, 1.19345356, 1.2325709 , 1.27207873, 1.31191146,\n",
       "       1.35201143, 1.39232848, 1.4328197 , 1.47344906, 1.51418709,\n",
       "       1.55501053, 1.59590204, 1.63684985, 1.6778474 , 1.71889305,\n",
       "       1.75998976, 1.80114469, 1.84236896, 1.88367724, 1.92508747,\n",
       "       1.96662053, 2.00829986, 2.05015118, 2.09220216, 2.13448205,\n",
       "       2.17702139, 2.21985164, 2.26300489, 2.30651351, 2.35040982,\n",
       "       2.39472576, 2.43949256, 2.48474041, 2.53049813, 2.57679284,\n",
       "       2.62364963, 2.67109124, 2.71913771, 2.76780604, 2.81710991,\n",
       "       2.86705929, 2.91766017, 2.96891416, 3.02081822, 3.0733643 ,\n",
       "       3.12653902, 3.18032334, 3.2346922 , 3.28961425, 3.34505146,\n",
       "       3.40095883, 3.45728403, 3.5139671 , 3.57094008, 3.62812673,\n",
       "       3.68544216, 3.74279251, 3.80007462, 3.85717572, 3.91397305,\n",
       "       3.9703336 , 4.02611371, 4.08115878, 4.13530294, 4.18836869,\n",
       "       4.24016661, 4.29049499, 4.33913954, 4.38587303, 4.43045495])"
      ]
     },
     "execution_count": 57,
     "metadata": {},
     "output_type": "execute_result"
    }
   ],
   "source": [
    "# regr_poly.predict(X_poly)\n",
    "\n",
    "regr_poly.predict(X_poly)"
   ]
  },
  {
   "cell_type": "markdown",
   "metadata": {},
   "source": [
    "#### RBF\n",
    "\n",
    "$$\\phi_i = e^{-\\| x - c_i \\|^2/2\\sigma^2}$$"
   ]
  },
  {
   "cell_type": "code",
   "execution_count": 59,
   "metadata": {},
   "outputs": [],
   "source": [
    "# # normal distrubution\n",
    "# def RBF(x, center, sigma):\n",
    "#     k = np.exp(-(x - center)**2/(2*sigma**2))\n",
    "#     return k\n",
    "\n",
    "def RBF(x, center, sigma):\n",
    "    k = np.exp(-(x - center)**2 / (2*sigma**2))\n",
    "    return k"
   ]
  },
  {
   "cell_type": "code",
   "execution_count": 60,
   "metadata": {},
   "outputs": [],
   "source": [
    "# sigma = 0.3\n",
    "sigma = 0.3"
   ]
  },
  {
   "cell_type": "code",
   "execution_count": 62,
   "metadata": {},
   "outputs": [],
   "source": [
    "# X_rbf = np.array([[RBF(k, .5, sigma), \n",
    "#                   RBF(k, 1.5, sigma),\n",
    "#                   RBF(k, 2.5, sigma),\n",
    "#                   RBF(k, 3.5, sigma),\n",
    "#                   RBF(k, 4.5, sigma)] for k in x])\n",
    "\n",
    "X_rbf = np.array([[RBF(k, .5, sigma),\n",
    "                  RBF(k, 1.5, sigma),\n",
    "                  RBF(k, 2.5, sigma),\n",
    "                  RBF(k, 3.5, sigma),\n",
    "                  RBF(k, 4.5, sigma)] for k in x])\n",
    "\n"
   ]
  },
  {
   "cell_type": "code",
   "execution_count": 63,
   "metadata": {},
   "outputs": [],
   "source": [
    "# regr_rbf = LinearRegression()\n",
    "regr_rbf = LinearRegression()"
   ]
  },
  {
   "cell_type": "code",
   "execution_count": 64,
   "metadata": {},
   "outputs": [
    {
     "data": {
      "text/plain": [
       "LinearRegression()"
      ]
     },
     "execution_count": 64,
     "metadata": {},
     "output_type": "execute_result"
    }
   ],
   "source": [
    "# regr_rbf.fit(X_rbf, y)\n",
    "regr_rbf.fit(X_rbf, y)"
   ]
  },
  {
   "cell_type": "code",
   "execution_count": 65,
   "metadata": {
    "scrolled": true
   },
   "outputs": [
    {
     "data": {
      "text/plain": [
       "[<matplotlib.lines.Line2D at 0x7fccd2975a60>]"
      ]
     },
     "execution_count": 65,
     "metadata": {},
     "output_type": "execute_result"
    },
    {
     "data": {
      "image/png": "[encoded data removed]",
      "text/plain": [
       "<Figure size 432x288 with 1 Axes>"
      ]
     },
     "metadata": {
      "needs_background": "light"
     },
     "output_type": "display_data"
    }
   ],
   "source": [
    "# plt.scatter(x,y)\n",
    "# plt.plot(x, regr_rbf.predict(X_rbf), 'r')\n",
    "\n",
    "plt.scatter(x,y)\n",
    "plt.plot(x, regr_rbf.predict(X_rbf), \"r\")"
   ]
  },
  {
   "cell_type": "code",
   "execution_count": 66,
   "metadata": {},
   "outputs": [
    {
     "name": "stdout",
     "output_type": "stream",
     "text": [
      "Coefficients:  [-0.97048856 -1.80237245  1.06127874  0.31405891  3.08953732]\n",
      "interception:  1.8887772374796623\n"
     ]
    }
   ],
   "source": [
    "# print('Coefficients: ', regr_rbf.coef_)\n",
    "# print('interception: ', regr_rbf.intercept_)\n",
    "\n",
    "print(\"Coefficients: \", regr_rbf.coef_)\n",
    "print(\"interception: \", regr_rbf.intercept_)"
   ]
  },
  {
   "cell_type": "markdown",
   "metadata": {},
   "source": [
    "#### Comparison"
   ]
  },
  {
   "cell_type": "code",
   "execution_count": 68,
   "metadata": {},
   "outputs": [],
   "source": [
    "# Y_lin = regr_lin.predict(X)\n",
    "# Y_poly = regr_poly.predict(X_poly)\n",
    "# Y_rbf = regr_rbf.predict(X_rbf)\n",
    "\n",
    "Y_lin = regr_lin.predict(X)\n",
    "Y_poly = regr_poly.predict(X_poly)\n",
    "Y_rbf = regr_rbf.predict(X_rbf)"
   ]
  },
  {
   "cell_type": "code",
   "execution_count": 70,
   "metadata": {
    "scrolled": true
   },
   "outputs": [
    {
     "data": {
      "text/plain": [
       "<matplotlib.legend.Legend at 0x7fccd28d6c70>"
      ]
     },
     "execution_count": 70,
     "metadata": {},
     "output_type": "execute_result"
    },
    {
     "data": {
      "image/png": "[encoded data removed]",
      "text/plain": [
       "<Figure size 432x288 with 1 Axes>"
      ]
     },
     "metadata": {
      "needs_background": "light"
     },
     "output_type": "display_data"
    }
   ],
   "source": [
    "# plt.scatter(x,y)\n",
    "\n",
    "# plt.plot(x, Y_lin, label='linear')\n",
    "# plt.plot(x, Y_poly, label='polynomial')\n",
    "# plt.plot(x, Y_rbf, label='rbf')\n",
    "# plt.legend()\n",
    "\n",
    "plt.scatter(x,y)\n",
    "plt.plot(x, Y_lin, label=\"linear\")\n",
    "plt.plot(x, Y_poly, label=\"polynomial\")\n",
    "plt.plot(x, Y_rbf, label=\"rbf\")\n",
    "plt.legend()"
   ]
  },
  {
   "cell_type": "markdown",
   "metadata": {
    "collapsed": true
   },
   "source": [
    "## 請計算模型的MSE"
   ]
  },
  {
   "cell_type": "code",
   "execution_count": 79,
   "metadata": {},
   "outputs": [
    {
     "name": "stdout",
     "output_type": "stream",
     "text": [
      "0.4672717986296879\n"
     ]
    }
   ],
   "source": [
    "# print(np.sum((regr_lin.predict(X)-y)**2) / len(y))\n",
    "print(np.sum((regr_lin.predict(X)-y)**2) / len(y))"
   ]
  },
  {
   "cell_type": "code",
   "execution_count": 76,
   "metadata": {},
   "outputs": [
    {
     "name": "stdout",
     "output_type": "stream",
     "text": [
      "0.41420725861150204\n"
     ]
    }
   ],
   "source": [
    "# print(np.sum((regr_poly.predict(X_poly)-y)**2) / len(y))\n",
    "print(np.sum((regr_poly.predict(X_poly)-y)**2) / len(y))"
   ]
  },
  {
   "cell_type": "code",
   "execution_count": 77,
   "metadata": {},
   "outputs": [
    {
     "name": "stdout",
     "output_type": "stream",
     "text": [
      "0.2773804820993316\n"
     ]
    }
   ],
   "source": [
    "# print(np.sum((regr_rbf.predict(X_rbf)-y)**2) / len(y))\n",
    "print(np.sum((regr_rbf.predict(X_rbf)-y)**2) / len(y))"
   ]
  },
  {
   "cell_type": "code",
   "execution_count": null,
   "metadata": {},
   "outputs": [],
   "source": []
  },
  {
   "cell_type": "code",
   "execution_count": null,
   "metadata": {},
   "outputs": [],
   "source": []
  }
 ],
 "metadata": {
  "anaconda-cloud": {},
  "kernelspec": {
   "display_name": "Python 3",
   "language": "python",
   "name": "python3"
  },
  "language_info": {
   "codemirror_mode": {
    "name": "ipython",
    "version": 3
   },
   "file_extension": ".py",
   "mimetype": "text/x-python",
   "name": "python",
   "nbconvert_exporter": "python",
   "pygments_lexer": "ipython3",
   "version": "3.8.8"
  }
 },
 "nbformat": 4,
 "nbformat_minor": 1
}
